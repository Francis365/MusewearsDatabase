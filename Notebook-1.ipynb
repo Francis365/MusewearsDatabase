{
    "cells": [
        {
            "attachments": {},
            "cell_type": "markdown",
            "metadata": {
                "azdata_cell_guid": "854d98bf-80ce-4c61-81a6-5a324c87f511"
            },
            "source": [
                "### Create a trigger function to update the average rating."
            ]
        },
        {
            "cell_type": "code",
            "execution_count": 5,
            "metadata": {
                "azdata_cell_guid": "60417400-9265-45ca-9c67-579a1d5c3a62",
                "language": "sql",
                "tags": [
                    "hide_input"
                ],
                "vscode": {
                    "languageId": "sql"
                }
            },
            "outputs": [
                {
                    "ename": "SyntaxError",
                    "evalue": "invalid syntax (872003640.py, line 1)",
                    "output_type": "error",
                    "traceback": [
                        "\u001b[0;36m  Cell \u001b[0;32mIn[5], line 1\u001b[0;36m\u001b[0m\n\u001b[0;31m    CREATE OR REPLACE FUNCTION update_average_rating()\u001b[0m\n\u001b[0m           ^\u001b[0m\n\u001b[0;31mSyntaxError\u001b[0m\u001b[0;31m:\u001b[0m invalid syntax\n"
                    ]
                }
            ],
            "source": [
                "CREATE OR REPLACE FUNCTION update_average_rating()\n",
                "RETURNS TRIGGER AS $$\n",
                "BEGIN\n",
                "    -- Calculate the new average rating\n",
                "    UPDATE products\n",
                "    SET average_rating = (\n",
                "        SELECT AVG(stars)\n",
                "        FROM ratings\n",
                "        WHERE product_id = NEW.product_id\n",
                "    )\n",
                "    WHERE id = NEW.product_id;\n",
                "\n",
                "    RETURN NEW;\n",
                "END;\n",
                "$$ LANGUAGE plpgsql;"
            ]
        },
        {
            "cell_type": "code",
            "execution_count": 1,
            "metadata": {
                "azdata_cell_guid": "abab6968-d12d-42e9-8d03-577fcc508835",
                "language": "sql",
                "vscode": {
                    "languageId": "sql"
                }
            },
            "outputs": [
                {
                    "ename": "SyntaxError",
                    "evalue": "invalid syntax (1467552709.py, line 1)",
                    "output_type": "error",
                    "traceback": [
                        "\u001b[0;36m  Cell \u001b[0;32mIn[1], line 1\u001b[0;36m\u001b[0m\n\u001b[0;31m    CREATE TABLE Rating (\u001b[0m\n\u001b[0m           ^\u001b[0m\n\u001b[0;31mSyntaxError\u001b[0m\u001b[0;31m:\u001b[0m invalid syntax\n"
                    ]
                }
            ],
            "source": [
                "CREATE TABLE Rating (\n",
                "    \"Id\" SERIAL PRIMARY KEY,\n",
                "    \"WearId\" VARCHAR REFERENCES \"Wear\"(\"Id\") ON DELETE CASCADE,\n",
                "    \"UserId\" VARCHAR REFERENCES \"AspNetUser\"(\"Id\") ON DELETE CASCADE,\n",
                "    \"Stars\" FLOAT\n",
                ");"
            ]
        },
        {
            "attachments": {},
            "cell_type": "markdown",
            "metadata": {
                "azdata_cell_guid": "94f97240-e44a-48f7-9264-1de7029e5c97"
            },
            "source": [
                "### Create triggers to invoke the function after INSERT, UPDATE, and DELETE operations on the `ratings` table."
            ]
        },
        {
            "cell_type": "code",
            "execution_count": 5,
            "metadata": {
                "azdata_cell_guid": "bc15d015-4e27-437a-bc27-1c3239f172ce",
                "language": "sql",
                "vscode": {
                    "languageId": "sql"
                }
            },
            "outputs": [
                {
                    "ename": "",
                    "evalue": "relation \"ratings\" does not exist",
                    "output_type": "error",
                    "traceback": []
                },
                {
                    "data": {
                        "text/html": [
                            "Total execution time: 00:00:00.001"
                        ]
                    },
                    "metadata": {},
                    "output_type": "display_data"
                }
            ],
            "source": [
                "-- Trigger for INSERT\n",
                "CREATE TRIGGER ratings_after_insert\n",
                "AFTER INSERT ON ratings\n",
                "FOR EACH ROW\n",
                "EXECUTE PROCEDURE update_average_rating();\n",
                "\n",
                "-- Trigger for UPDATE\n",
                "CREATE TRIGGER ratings_after_update\n",
                "AFTER UPDATE ON ratings\n",
                "FOR EACH ROW\n",
                "EXECUTE PROCEDURE update_average_rating();\n",
                "\n",
                "-- Trigger for DELETE\n",
                "CREATE TRIGGER ratings_after_delete\n",
                "AFTER DELETE ON ratings\n",
                "FOR EACH ROW\n",
                "EXECUTE PROCEDURE update_average_rating();"
            ]
        }
    ],
    "metadata": {
        "kernelspec": {
            "display_name": "Python 3",
            "language": "python",
            "name": "python3"
        },
        "language_info": {
            "codemirror_mode": {
                "name": "ipython",
                "version": 3
            },
            "file_extension": ".py",
            "mimetype": "text/x-python",
            "name": "python",
            "nbconvert_exporter": "python",
            "pygments_lexer": "ipython3",
            "version": "3.12.1"
        }
    },
    "nbformat": 4,
    "nbformat_minor": 2
}
